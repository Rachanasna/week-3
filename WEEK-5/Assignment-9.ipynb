{
 "cells": [
  {
   "cell_type": "code",
   "execution_count": 9,
   "id": "ec7cf4d2",
   "metadata": {},
   "outputs": [
    {
     "data": {
      "text/html": [
       "<div>\n",
       "<style scoped>\n",
       "    .dataframe tbody tr th:only-of-type {\n",
       "        vertical-align: middle;\n",
       "    }\n",
       "\n",
       "    .dataframe tbody tr th {\n",
       "        vertical-align: top;\n",
       "    }\n",
       "\n",
       "    .dataframe thead th {\n",
       "        text-align: right;\n",
       "    }\n",
       "</style>\n",
       "<table border=\"1\" class=\"dataframe\">\n",
       "  <thead>\n",
       "    <tr style=\"text-align: right;\">\n",
       "      <th></th>\n",
       "      <th>name</th>\n",
       "      <th>grade</th>\n",
       "      <th>age</th>\n",
       "      <th>group</th>\n",
       "      <th>suspended</th>\n",
       "    </tr>\n",
       "  </thead>\n",
       "  <tbody>\n",
       "    <tr>\n",
       "      <th>0</th>\n",
       "      <td>Michael Smith</td>\n",
       "      <td>[A, A]</td>\n",
       "      <td>19</td>\n",
       "      <td>class 1</td>\n",
       "      <td>True</td>\n",
       "    </tr>\n",
       "    <tr>\n",
       "      <th>1</th>\n",
       "      <td>Ana Kors</td>\n",
       "      <td>[C]</td>\n",
       "      <td>19</td>\n",
       "      <td>class 2</td>\n",
       "      <td>False</td>\n",
       "    </tr>\n",
       "    <tr>\n",
       "      <th>2</th>\n",
       "      <td>Sean Bill</td>\n",
       "      <td>[A, C, B]</td>\n",
       "      <td>17</td>\n",
       "      <td>class 2</td>\n",
       "      <td>True</td>\n",
       "    </tr>\n",
       "    <tr>\n",
       "      <th>3</th>\n",
       "      <td>Carl Jonson</td>\n",
       "      <td>[]</td>\n",
       "      <td>18</td>\n",
       "      <td>class 1</td>\n",
       "      <td>False</td>\n",
       "    </tr>\n",
       "    <tr>\n",
       "      <th>4</th>\n",
       "      <td>Bob Evan</td>\n",
       "      <td>[F]</td>\n",
       "      <td>-</td>\n",
       "      <td>class 2</td>\n",
       "      <td>True</td>\n",
       "    </tr>\n",
       "  </tbody>\n",
       "</table>\n",
       "</div>"
      ],
      "text/plain": [
       "            name      grade age    group suspended\n",
       "0  Michael Smith     [A, A]  19  class 1      True\n",
       "1       Ana Kors        [C]  19  class 2     False\n",
       "2      Sean Bill  [A, C, B]  17  class 2      True\n",
       "3    Carl Jonson         []  18  class 1     False\n",
       "4       Bob Evan        [F]   -  class 2      True"
      ]
     },
     "execution_count": 9,
     "metadata": {},
     "output_type": "execute_result"
    }
   ],
   "source": [
    "import pandas as pd\n",
    "client_dictionary = {'name': ['Michael Smith', 'Ana Kors', 'Sean Bill', 'Carl Jonson','Bob Evan'],\n",
    " 'grade': [['A', 'A'], ['C'], ['A', 'C', 'B'], [], ['F']],\n",
    " 'age': ['19', '19', '17', '18', '-'],\n",
    " 'group': ['class 1', 'class 2', 'class 2', 'class 1', 'class 2'],\n",
    " 'suspended': ['True', 'False','True', 'False', 'True']}\n",
    "df = pd.DataFrame(client_dictionary)\n",
    "df\n"
   ]
  },
  {
   "cell_type": "markdown",
   "id": "570a74bb",
   "metadata": {},
   "source": [
    "# 1.upper()"
   ]
  },
  {
   "cell_type": "code",
   "execution_count": 10,
   "id": "1e015e0b",
   "metadata": {},
   "outputs": [
    {
     "data": {
      "text/plain": [
       "0    MICHAEL SMITH\n",
       "1         ANA KORS\n",
       "2        SEAN BILL\n",
       "3      CARL JONSON\n",
       "4         BOB EVAN\n",
       "Name: name, dtype: object"
      ]
     },
     "execution_count": 10,
     "metadata": {},
     "output_type": "execute_result"
    }
   ],
   "source": [
    "df.name.str.upper()\n"
   ]
  },
  {
   "cell_type": "markdown",
   "id": "625af58e",
   "metadata": {},
   "source": [
    "# 2. lower()"
   ]
  },
  {
   "cell_type": "code",
   "execution_count": 11,
   "id": "45a831b8",
   "metadata": {},
   "outputs": [
    {
     "data": {
      "text/plain": [
       "0    michael smith\n",
       "1         ana kors\n",
       "2        sean bill\n",
       "3      carl jonson\n",
       "4         bob evan\n",
       "Name: name, dtype: object"
      ]
     },
     "execution_count": 11,
     "metadata": {},
     "output_type": "execute_result"
    }
   ],
   "source": [
    "df.name.str.lower()"
   ]
  },
  {
   "cell_type": "markdown",
   "id": "d745dd68",
   "metadata": {},
   "source": [
    "# 3. isupper()"
   ]
  },
  {
   "cell_type": "code",
   "execution_count": 12,
   "id": "c9130bc7",
   "metadata": {},
   "outputs": [
    {
     "data": {
      "text/plain": [
       "0    False\n",
       "1    False\n",
       "2    False\n",
       "3    False\n",
       "4    False\n",
       "Name: name, dtype: bool"
      ]
     },
     "execution_count": 12,
     "metadata": {},
     "output_type": "execute_result"
    }
   ],
   "source": [
    "df.name.str.isupper()\n"
   ]
  },
  {
   "cell_type": "code",
   "execution_count": 13,
   "id": "f1280253",
   "metadata": {},
   "outputs": [
    {
     "data": {
      "text/plain": [
       "0    True\n",
       "1    True\n",
       "2    True\n",
       "3    True\n",
       "4    True\n",
       "Name: name, dtype: bool"
      ]
     },
     "execution_count": 13,
     "metadata": {},
     "output_type": "execute_result"
    }
   ],
   "source": [
    "df.name.str.upper().str.isupper()"
   ]
  },
  {
   "cell_type": "code",
   "execution_count": 14,
   "id": "7dda4ec2",
   "metadata": {},
   "outputs": [
    {
     "data": {
      "text/plain": [
       "0    False\n",
       "1    False\n",
       "2    False\n",
       "3    False\n",
       "4    False\n",
       "Name: name, dtype: bool"
      ]
     },
     "execution_count": 14,
     "metadata": {},
     "output_type": "execute_result"
    }
   ],
   "source": [
    "df.name.str.islower()\n"
   ]
  },
  {
   "cell_type": "markdown",
   "id": "def3401c",
   "metadata": {},
   "source": [
    "# 5. isnumeric()"
   ]
  },
  {
   "cell_type": "code",
   "execution_count": 15,
   "id": "1885d79a",
   "metadata": {},
   "outputs": [
    {
     "data": {
      "text/plain": [
       "0     True\n",
       "1     True\n",
       "2     True\n",
       "3     True\n",
       "4    False\n",
       "Name: age, dtype: bool"
      ]
     },
     "execution_count": 15,
     "metadata": {},
     "output_type": "execute_result"
    }
   ],
   "source": [
    "df.age.str.isnumeric()\n"
   ]
  },
  {
   "cell_type": "markdown",
   "id": "184c62c4",
   "metadata": {},
   "source": [
    "# 6. replace()"
   ]
  },
  {
   "cell_type": "code",
   "execution_count": 16,
   "id": "7ec8bfb0",
   "metadata": {},
   "outputs": [
    {
     "data": {
      "text/plain": [
       "0    1\n",
       "1    2\n",
       "2    2\n",
       "3    1\n",
       "4    2\n",
       "Name: group, dtype: object"
      ]
     },
     "execution_count": 16,
     "metadata": {},
     "output_type": "execute_result"
    }
   ],
   "source": [
    "df.group.str.replace('class ', '')"
   ]
  },
  {
   "cell_type": "code",
   "execution_count": 17,
   "id": "70556bb0",
   "metadata": {},
   "outputs": [
    {
     "name": "stderr",
     "output_type": "stream",
     "text": [
      "C:\\Users\\GPTBGK\\AppData\\Local\\Temp\\ipykernel_5612\\917162232.py:1: FutureWarning: The default value of regex will change from True to False in a future version.\n",
      "  df.group.str.replace(r'[a-z]+ ', '')\n"
     ]
    },
    {
     "data": {
      "text/plain": [
       "0    1\n",
       "1    2\n",
       "2    2\n",
       "3    1\n",
       "4    2\n",
       "Name: group, dtype: object"
      ]
     },
     "execution_count": 17,
     "metadata": {},
     "output_type": "execute_result"
    }
   ],
   "source": [
    "df.group.str.replace(r'[a-z]+ ', '')"
   ]
  },
  {
   "cell_type": "markdown",
   "id": "4286790f",
   "metadata": {},
   "source": [
    "# 7. split()"
   ]
  },
  {
   "cell_type": "code",
   "execution_count": 18,
   "id": "70427383",
   "metadata": {},
   "outputs": [
    {
     "data": {
      "text/plain": [
       "0    [Michael, Smith]\n",
       "1         [Ana, Kors]\n",
       "2        [Sean, Bill]\n",
       "3      [Carl, Jonson]\n",
       "4         [Bob, Evan]\n",
       "Name: name, dtype: object"
      ]
     },
     "execution_count": 18,
     "metadata": {},
     "output_type": "execute_result"
    }
   ],
   "source": [
    "df.name.str.split()\n"
   ]
  },
  {
   "cell_type": "code",
   "execution_count": 19,
   "id": "4b1b1633",
   "metadata": {},
   "outputs": [
    {
     "data": {
      "text/plain": [
       "0    [Mich, el Smith]\n",
       "1         [An,  Kors]\n",
       "2        [Se, n Bill]\n",
       "3      [C, rl Jonson]\n",
       "4         [Bob Ev, n]\n",
       "Name: name, dtype: object"
      ]
     },
     "execution_count": 19,
     "metadata": {},
     "output_type": "execute_result"
    }
   ],
   "source": [
    "df.name.str.split('a')\n"
   ]
  },
  {
   "cell_type": "markdown",
   "id": "7fac5aa3",
   "metadata": {},
   "source": [
    "# 8. contains()"
   ]
  },
  {
   "cell_type": "code",
   "execution_count": 20,
   "id": "6cc6ebfc",
   "metadata": {},
   "outputs": [
    {
     "data": {
      "text/plain": [
       "0     True\n",
       "1    False\n",
       "2    False\n",
       "3     True\n",
       "4    False\n",
       "Name: group, dtype: bool"
      ]
     },
     "execution_count": 20,
     "metadata": {},
     "output_type": "execute_result"
    }
   ],
   "source": [
    "df.group.str.contains('1')"
   ]
  },
  {
   "cell_type": "code",
   "execution_count": 21,
   "id": "661aa9b8",
   "metadata": {},
   "outputs": [
    {
     "data": {
      "text/plain": [
       "0    True\n",
       "1    True\n",
       "2    True\n",
       "3    True\n",
       "4    True\n",
       "Name: group, dtype: bool"
      ]
     },
     "execution_count": 21,
     "metadata": {},
     "output_type": "execute_result"
    }
   ],
   "source": [
    "df.group.str.contains(r'[0-9]')\n"
   ]
  },
  {
   "cell_type": "markdown",
   "id": "93f18877",
   "metadata": {},
   "source": [
    "# 9. find()"
   ]
  },
  {
   "cell_type": "code",
   "execution_count": 22,
   "id": "42e4cb9f",
   "metadata": {},
   "outputs": [
    {
     "data": {
      "text/plain": [
       "0   -1\n",
       "1    7\n",
       "2   -1\n",
       "3    8\n",
       "4   -1\n",
       "Name: name, dtype: int64"
      ]
     },
     "execution_count": 22,
     "metadata": {},
     "output_type": "execute_result"
    }
   ],
   "source": [
    "df.name.str.find('s')"
   ]
  },
  {
   "cell_type": "markdown",
   "id": "9d5989cd",
   "metadata": {},
   "source": [
    "# 10. findall()"
   ]
  },
  {
   "cell_type": "code",
   "execution_count": 23,
   "id": "9e330131",
   "metadata": {},
   "outputs": [
    {
     "data": {
      "text/plain": [
       "0      []\n",
       "1      []\n",
       "2    [an]\n",
       "3      []\n",
       "4    [an]\n",
       "Name: name, dtype: object"
      ]
     },
     "execution_count": 23,
     "metadata": {},
     "output_type": "execute_result"
    }
   ],
   "source": [
    "df.name.str.findall('an')\n"
   ]
  },
  {
   "cell_type": "code",
   "execution_count": 24,
   "id": "7358f273",
   "metadata": {},
   "outputs": [
    {
     "data": {
      "text/plain": [
       "0      []\n",
       "1    [An]\n",
       "2    [an]\n",
       "3      []\n",
       "4    [an]\n",
       "Name: name, dtype: object"
      ]
     },
     "execution_count": 24,
     "metadata": {},
     "output_type": "execute_result"
    }
   ],
   "source": [
    "import re\n",
    "df.name.str.findall('an', flags=re.IGNORECASE)\n"
   ]
  },
  {
   "cell_type": "code",
   "execution_count": 25,
   "id": "7343a671",
   "metadata": {},
   "outputs": [
    {
     "name": "stdout",
     "output_type": "stream",
     "text": [
      "Datetime object for Jan 11 2012:\n",
      "2012-01-11 00:00:00\n",
      "\n",
      "Specific date and time of 9:20 pm\n",
      "2011-01-11 21:20:00\n",
      "\n",
      "Local date and time:\n",
      "2022-11-25 17:13:49.869671\n",
      "\n",
      "A date without time: \n",
      "2012-05-22\n",
      "\n",
      "Current date:\n",
      "2022-11-25\n",
      "\n",
      "Time from a datetime:\n",
      "18:12:00\n",
      "\n",
      "Current local time:\n",
      "17:13:49.870669\n"
     ]
    }
   ],
   "source": [
    "import datetime\n",
    "from datetime import datetime\n",
    "print(\"Datetime object for Jan 11 2012:\")\n",
    "print(datetime(2012, 1, 11))\n",
    "print(\"\\nSpecific date and time of 9:20 pm\")\n",
    "print(datetime(2011, 1, 11, 21, 20))\n",
    "print(\"\\nLocal date and time:\")\n",
    "print(datetime.now())\n",
    "print(\"\\nA date without time: \")\n",
    "print(datetime.date(datetime(2012, 5, 22)))\n",
    "print(\"\\nCurrent date:\")\n",
    "print(datetime.now().date())\n",
    "print(\"\\nTime from a datetime:\")\n",
    "print(datetime.time(datetime(2012, 12, 15, 18, 12)))\n",
    "print(\"\\nCurrent local time:\")\n",
    "print(datetime.now().time())"
   ]
  },
  {
   "cell_type": "markdown",
   "id": "92ff619b",
   "metadata": {},
   "source": [
    "# Write a python program to create a)a specific date using timestamp. b) date and time using timestamp.c) a time adds in the current local date using timestamp.d) current date and time using timestamp.**"
   ]
  },
  {
   "cell_type": "code",
   "execution_count": 26,
   "id": "bd438ab5",
   "metadata": {},
   "outputs": [
    {
     "name": "stdout",
     "output_type": "stream",
     "text": [
      "\n",
      "A specific date using timestamp:\n",
      "2016-11-10 00:00:00\n",
      "\n",
      "Date and time using timestamp:\n",
      "2012-05-03 11:30:00\n",
      "\n",
      "A time adds in the current local date using timestamp:\n",
      "2022-11-25 11:30:00\n",
      "\n",
      "Current date and time using timestamp:\n",
      "2022-11-25 17:15:01.163510\n"
     ]
    }
   ],
   "source": [
    "import pandas as pd\n",
    "#from datetime import datetime\n",
    "print(\"\\nA specific date using timestamp:\")\n",
    "print(pd.Timestamp('2016-11-10'))\n",
    "print(\"\\nDate and time using timestamp:\")\n",
    "print(pd.Timestamp('2012-05-03 11:30'))\n",
    "print(\"\\nA time adds in the current local date using timestamp:\")\n",
    "print(pd.Timestamp('11:30'))\n",
    "print(\"\\nCurrent date and time using timestamp:\")\n",
    "print(pd.Timestamp(\"now\"))\n"
   ]
  },
  {
   "cell_type": "markdown",
   "id": "6751cec3",
   "metadata": {},
   "source": [
    "# Write a python program to create a date from a given year, month, day and another date from a given string formats."
   ]
  },
  {
   "cell_type": "code",
   "execution_count": 27,
   "id": "6ffdf834",
   "metadata": {},
   "outputs": [
    {
     "name": "stdout",
     "output_type": "stream",
     "text": [
      "Date from a given year, month, day:\n",
      "2020-12-25 00:00:00\n",
      "\n",
      "Date from a given string formats:\n",
      "2021-01-01 00:00:00\n"
     ]
    }
   ],
   "source": [
    "from datetime import datetime\n",
    "date1 = datetime(year=2020, month=12, day=25)\n",
    "print(\"Date from a given year, month, day:\")\n",
    "print(date1)\n",
    "from dateutil import parser\n",
    "date2 = parser.parse(\"1st of January, 2021\")\n",
    "print(\"\\nDate from a given string formats:\")\n",
    "print(date2)"
   ]
  },
  {
   "cell_type": "markdown",
   "id": "9d711b05",
   "metadata": {},
   "source": [
    "# Write a Python program to print the day after and before a specified date. Also print the days between two given dates."
   ]
  },
  {
   "cell_type": "code",
   "execution_count": 28,
   "id": "f299e4c1",
   "metadata": {},
   "outputs": [
    {
     "name": "stdout",
     "output_type": "stream",
     "text": [
      "Current date: 2012-10-30 00:00:00\n",
      "Tomorrow: 2012-10-31 00:00:00\n",
      "Yesterday: 2012-10-29 00:00:00\n",
      "\n",
      "Difference between two dates:  14 days, 0:00:00\n"
     ]
    }
   ],
   "source": [
    "import pandas as pd\n",
    "import datetime\n",
    "from datetime import datetime, date\n",
    "today = datetime(2012, 10, 30)\n",
    "print(\"Current date:\", today)\n",
    "tomorrow = today + pd.Timedelta(days=1)\n",
    "print(\"Tomorrow:\", tomorrow)\n",
    "yesterday = today - pd.Timedelta(days=1)\n",
    "print(\"Yesterday:\", yesterday)\n",
    "date1 = datetime(2016, 8, 2)\n",
    "date2 = datetime(2016, 7, 19)\n",
    "print(\"\\nDifference between two dates: \",(date1 - date2))\n"
   ]
  },
  {
   "cell_type": "code",
   "execution_count": null,
   "id": "3bf80685",
   "metadata": {},
   "outputs": [],
   "source": []
  }
 ],
 "metadata": {
  "kernelspec": {
   "display_name": "Python 3 (ipykernel)",
   "language": "python",
   "name": "python3"
  },
  "language_info": {
   "codemirror_mode": {
    "name": "ipython",
    "version": 3
   },
   "file_extension": ".py",
   "mimetype": "text/x-python",
   "name": "python",
   "nbconvert_exporter": "python",
   "pygments_lexer": "ipython3",
   "version": "3.9.12"
  }
 },
 "nbformat": 4,
 "nbformat_minor": 5
}
